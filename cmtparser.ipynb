{
 "cells": [
  {
   "cell_type": "code",
   "execution_count": 3,
   "metadata": {},
   "outputs": [],
   "source": [
    "import re\n",
    "import json\n",
    "import csv\n",
    "\n",
    "def parse_block(block):\n",
    "    event_dict = {}\n",
    "    event_dict[\"hypocenter_reference_catalog\"] = block[0][0:4].strip()\n",
    "    event_dict[\"date\"] = block[0][5:15].strip()\n",
    "    event_dict[\"time\"] = block[0][16:26].strip()\n",
    "    event_dict[\"latitude\"] = float(block[0][27:33].strip())\n",
    "    event_dict[\"longitude\"] = float(block[0][34:41].strip())\n",
    "    event_dict[\"depth\"] = float(block[0][42:47].strip())\n",
    "    event_dict[\"reported_magnitudes\"] = block[0][48:55].strip()\n",
    "    event_dict[\"geographical_location\"] = block[0][56:80].strip()\n",
    "    \n",
    "    event_dict[\"CMT_event_name\"] = block[1][0:16].strip()\n",
    "    event_dict[\"long_period_body_waves\"] = block[1][17:28].strip()\n",
    "    event_dict[\"intermediate_period_surface_waves\"] = block[1][28:40].strip()\n",
    "    event_dict[\"long_period_mantle_waves\"] = block[1][40:51].strip()\n",
    "    event_dict[\"type_of_source\"] = block[1][62:68].strip()\n",
    "    event_dict[\"type_and_duration_of_moment_rate_function\"] = block[1][69:80].strip()\n",
    "    \n",
    "    event_dict[\"centroid_parameters\"] = block[2][0:58].strip()\n",
    "    event_dict[\"type_of_depth\"] = block[2][59:63].strip()\n",
    "    event_dict[\"timestamp\"] = block[2][64:80].strip()\n",
    "    \n",
    "    event_dict[\"exponent\"] = int(block[3][0:2].strip())\n",
    "    event_dict[\"moment_tensor_elements\"] = block[3][2:80].strip()\n",
    "    \n",
    "    event_dict[\"version_code\"] = block[4][0:3].strip()\n",
    "    event_dict[\"principal_axis_system\"] = block[4][3:48].strip()\n",
    "    event_dict[\"scalar_moment\"] = block[4][49:56].strip()\n",
    "    event_dict[\"best_double_couple_mechanism\"] = block[4][57:80].strip()\n",
    "    \n",
    "    return event_dict\n",
    "\n",
    "with open('ldeo.columbia.edu_~gcmt_projects_CMT_catalog_jan76_dec20.ndk.txt', 'r') as f:\n",
    "    content = f.read().split('\\n')\n",
    "\n",
    "content = [line for line in content if line]\n",
    "blocks = [content[i:i+5] for i in range(0, len(content), 5)]\n",
    "events = [parse_block(block) for block in blocks]\n",
    "\n",
    "# Convert to JSON\n",
    "with open('earthquake_data.json', 'w') as f:\n",
    "    json.dump(events, f, indent=4)\n",
    "    \n",
    "# Convert to CSV\n",
    "keys = events[0].keys()\n",
    "with open('earthquake_data.csv', 'w', newline='') as output_file:\n",
    "    dict_writer = csv.DictWriter(output_file, keys)\n",
    "    dict_writer.writeheader()\n",
    "    dict_writer.writerows(events)\n"
   ]
  }
 ],
 "metadata": {
  "kernelspec": {
   "display_name": "Python 3",
   "language": "python",
   "name": "python3"
  },
  "language_info": {
   "codemirror_mode": {
    "name": "ipython",
    "version": 3
   },
   "file_extension": ".py",
   "mimetype": "text/x-python",
   "name": "python",
   "nbconvert_exporter": "python",
   "pygments_lexer": "ipython3",
   "version": "3.11.4"
  },
  "orig_nbformat": 4
 },
 "nbformat": 4,
 "nbformat_minor": 2
}
