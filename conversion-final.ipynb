{
 "cells": [
  {
   "cell_type": "code",
   "execution_count": 58,
   "metadata": {},
   "outputs": [
    {
     "name": "stdout",
     "output_type": "stream",
     "text": [
      "         network: UT\n",
      "         station: STN11\n",
      "        location: \n",
      "         channel: BHE\n",
      "       starttime: 2017-05-04T05:30:00.000000Z\n",
      "         endtime: 2017-05-04T06:00:00.000000Z\n",
      "   sampling_rate: 100.0\n",
      "           delta: 0.01\n",
      "            npts: 180001\n",
      "           calib: 1.0\n",
      "         _format: MSEED\n",
      "           mseed: AttribDict({'dataquality': 'D', 'number_of_records': 706, 'encoding': 'STEIM1', 'byteorder': '>', 'record_length': 512, 'filesize': 1141248})\n"
     ]
    }
   ],
   "source": [
    "stsample = read(\"UT.STN11.A2_C50.miniseed\")\n",
    "print(stsample[0].stats)"
   ]
  },
  {
   "cell_type": "code",
   "execution_count": 3,
   "metadata": {},
   "outputs": [
    {
     "name": "stdout",
     "output_type": "stream",
     "text": [
      "3 Trace(s) in Stream:\n",
      "UT.STN11..BHE | 2017-05-04T05:30:00.000000Z - 2017-05-04T06:00:00.000000Z | 100.0 Hz, 180001 samples\n",
      "UT.STN11..BHZ | 2017-05-04T05:30:00.000000Z - 2017-05-04T06:00:00.000000Z | 100.0 Hz, 180001 samples\n",
      "UT.STN11..BHN | 2017-05-04T05:30:00.000000Z - 2017-05-04T06:00:00.000000Z | 100.0 Hz, 180001 samples\n"
     ]
    }
   ],
   "source": [
    "from obspy import read\n",
    "\n",
    "stsample = read(\"UT.STN11.A2_C50.miniseed\")\n",
    "print(stsample)"
   ]
  },
  {
   "cell_type": "code",
   "execution_count": 1,
   "metadata": {},
   "outputs": [
    {
     "name": "stdout",
     "output_type": "stream",
     "text": [
      "111500\n",
      "         network: UT\n",
      "         station: STN11\n",
      "        location: \n",
      "         channel: BHN\n",
      "       starttime: 2021-10-27T11:09:20.000000Z\n",
      "         endtime: 2021-10-27T11:27:54.979962Z\n",
      "   sampling_rate: 100.00090026855469\n",
      "           delta: 0.009999909973955008\n",
      "            npts: 111500\n",
      "           calib: 1.0\n",
      "         _format: MSEED\n",
      "           mseed: AttribDict({'dataquality': 'D', 'number_of_records': 5069, 'encoding': 'FLOAT64', 'byteorder': '>', 'record_length': 256, 'filesize': 3892992}) \n",
      " [-0.02422622 -0.01972151 -0.01884705 ...,  0.07889731 -0.8837911\n",
      "  0.7138407 ]\n",
      "         network: UT\n",
      "         station: STN11\n",
      "        location: \n",
      "         channel: BHE\n",
      "       starttime: 2021-10-27T11:09:20.000000Z\n",
      "         endtime: 2021-10-27T11:27:54.979962Z\n",
      "   sampling_rate: 100.00090026855469\n",
      "           delta: 0.009999909973955008\n",
      "            npts: 111500\n",
      "           calib: 1.0\n",
      "         _format: MSEED\n",
      "           mseed: AttribDict({'dataquality': 'D', 'number_of_records': 5069, 'encoding': 'FLOAT64', 'byteorder': '>', 'record_length': 256, 'filesize': 3892992}) \n",
      " [ 0.00118495 -0.00447245  0.00223167 ..., -0.9831465  -0.4615594\n",
      "  0.2808413 ]\n",
      "         network: UT\n",
      "         station: STN11\n",
      "        location: \n",
      "         channel: BHZ\n",
      "       starttime: 2021-10-27T11:09:20.000000Z\n",
      "         endtime: 2021-10-27T11:27:54.979962Z\n",
      "   sampling_rate: 100.00090026855469\n",
      "           delta: 0.009999909973955008\n",
      "            npts: 111500\n",
      "           calib: 1.0\n",
      "         _format: MSEED\n",
      "           mseed: AttribDict({'dataquality': 'D', 'number_of_records': 5069, 'encoding': 'FLOAT64', 'byteorder': '>', 'record_length': 256, 'filesize': 3892992}) \n",
      " [-0.00343248 -0.01229353 -0.00668126 ..., -0.01799767 -0.01303438\n",
      "  0.00159584]\n"
     ]
    }
   ],
   "source": [
    "######ACCURATE\n",
    "\n",
    "\n",
    "from __future__ import print_function\n",
    "import numpy as np\n",
    "from obspy import UTCDateTime, read, Trace, Stream\n",
    "\n",
    "# Read the file\n",
    "with open(\"22.ascii\", \"r\") as file:\n",
    "    file_lines = file.readlines()\n",
    "\n",
    "# Convert each line to NumPy character array\n",
    "data_list = []\n",
    "timestamps = []\n",
    "for line in file_lines:\n",
    "    line = line.strip()\n",
    "    date, time, ns, ew, vt = line.split()\n",
    "    timestamp = date + \"T\" + time  # Concatenating date and time with T separator\n",
    "    data = np.array([float(ns), float(ew), float(vt)])\n",
    "    data_list.append(data)\n",
    "    timestamps.append(UTCDateTime(timestamp))\n",
    "\n",
    "# Create an empty Stream object\n",
    "st = Stream()\n",
    "\n",
    "print(len(data_list))\n",
    "\n",
    "# Fill header attributes\n",
    "sampling_rate = 100  # assuming it's in Hz\n",
    "total_samples = len(data_list)\n",
    "total_seconds = (timestamps[-1] - timestamps[0])  # Subtracting obspy UTCDateTime objects gives difference in seconds\n",
    "actual_sampling_rate = total_samples / total_seconds\n",
    "stats = {'network': 'UT', 'station': 'STN11', 'npts': len(data_list), 'sampling_rate': actual_sampling_rate, 'mseed': {'dataquality': 'D'}}\n",
    "\n",
    "# Set starttime as the first time in the file input\n",
    "stats['starttime'] = timestamps[0]\n",
    "\n",
    "# Create three channels BHN, BHE, and BHZ\n",
    "channels = ['BHN', 'BHE', 'BHZ']\n",
    "for i, channel in enumerate(channels):\n",
    "    stats['channel'] = channel\n",
    "    channel_data = [data[i] for data in data_list]\n",
    "    trace = Trace(data=np.array(channel_data, dtype=np.float64), header=stats)\n",
    "    st.append(trace)\n",
    "\n",
    "# Write as MiniSEED file (encoding='STEIM2')\n",
    "st.write(\"output.miniseed\", format='MSEED', reclen=256)\n",
    "\n",
    "# Read the written MiniSEED file and print the data\n",
    "st1 = read(\"output.miniseed\")\n",
    "for tr in st1:\n",
    "    print(tr.stats, \"\\n\", tr.data)\n"
   ]
  },
  {
   "cell_type": "code",
   "execution_count": 2,
   "metadata": {},
   "outputs": [
    {
     "name": "stdout",
     "output_type": "stream",
     "text": [
      "3 Trace(s) in Stream:\n",
      "UT.STN11..BHN | 2021-10-27T11:09:20.000000Z - 2021-10-27T11:27:54.979962Z | 100.0 Hz, 111500 samples\n",
      "UT.STN11..BHE | 2021-10-27T11:09:20.000000Z - 2021-10-27T11:27:54.979962Z | 100.0 Hz, 111500 samples\n",
      "UT.STN11..BHZ | 2021-10-27T11:09:20.000000Z - 2021-10-27T11:27:54.979962Z | 100.0 Hz, 111500 samples\n"
     ]
    }
   ],
   "source": [
    "from obspy import read\n",
    "\n",
    "st = read(\"output.miniseed\")\n",
    "print(st)"
   ]
  }
 ],
 "metadata": {
  "kernelspec": {
   "display_name": "obspy",
   "language": "python",
   "name": "python3"
  },
  "language_info": {
   "codemirror_mode": {
    "name": "ipython",
    "version": 3
   },
   "file_extension": ".py",
   "mimetype": "text/x-python",
   "name": "python",
   "nbconvert_exporter": "python",
   "pygments_lexer": "ipython3",
   "version": "3.6.13"
  },
  "orig_nbformat": 4
 },
 "nbformat": 4,
 "nbformat_minor": 2
}
